{
 "cells": [
  {
   "cell_type": "code",
   "execution_count": 12,
   "metadata": {},
   "outputs": [
    {
     "name": "stdout",
     "output_type": "stream",
     "text": [
      "[5 0 4 ... 5 6 8]\n",
      "Accuracy : 0.8671666666666666\n"
     ]
    }
   ],
   "source": [
    "# LIBRARY IMPLEMENTATION\n",
    "import numpy as np\n",
    "from sklearn import tree\n",
    "from sklearn.model_selection import train_test_split\n",
    "from sklearn.metrics import accuracy_score\n",
    "Decision_Tree = tree.DecisionTreeClassifier()\n",
    "X = np.load('X_train.npy')\n",
    "X = X.reshape(60000,784)\n",
    "X = X / 255.0\n",
    "y = np.load('y_train.npy')\n",
    "print(y)\n",
    "\n",
    "X_train,X_test,y_train,y_test = train_test_split(X,y,train_size=0.8,random_state=42)\n",
    "Decision_Tree.fit(X_train,y_train)\n",
    "\n",
    "y_pred = Decision_Tree.predict(X_test)\n",
    "print(\"Accuracy :\" ,accuracy_score(y_test,y_pred))\n",
    "\n"
   ]
  },
  {
   "cell_type": "code",
   "execution_count": 13,
   "metadata": {},
   "outputs": [
    {
     "name": "stdout",
     "output_type": "stream",
     "text": [
      "[[0. 0. 0. ... 0. 0. 0.]\n",
      " [0. 0. 0. ... 0. 0. 0.]\n",
      " [0. 0. 0. ... 0. 0. 0.]\n",
      " ...\n",
      " [0. 0. 0. ... 0. 0. 0.]\n",
      " [0. 0. 0. ... 0. 0. 0.]\n",
      " [0. 0. 0. ... 0. 0. 0.]]\n"
     ]
    }
   ],
   "source": [
    "print(X)"
   ]
  },
  {
   "cell_type": "code",
   "execution_count": 5,
   "metadata": {},
   "outputs": [],
   "source": [
    "# ENTROPY CALCULATION\n",
    "import numpy as np\n",
    "def Entropy(labels):\n",
    "    entropy = 0\n",
    "    size = labels.size\n",
    "    numbers = {1:0,2:0,3:0,4:0,5:0,6:0,7:0,8:0,9:0,0:0}\n",
    "    for x in labels:\n",
    "        numbers[x] += 1\n",
    "    for key in numbers.keys():\n",
    "        entropy +=(numbers[key]/float(size)) *np.log2(numbers[key]/float(size))\n",
    "    return entropy"
   ]
  },
  {
   "cell_type": "code",
   "execution_count": null,
   "metadata": {},
   "outputs": [],
   "source": [
    "def compute_entropy_threshold(data , index,labels):\n",
    "    entropy_labels = Entropy(labels)\n",
    "    computed_values = []\n",
    "    feature = data[:,index]\n",
    "    for I in range(0,feature.size):\n",
    "        arr1 = np.empty(0)\n",
    "        arr2 = np.empty(0)\n",
    "        if (feature[I] not in computed_values):\n",
    "            computed_values.append(feature[I])\n",
    "            for j in range(0,labels.size):\n",
    "                if (feature[j] < feature[I]):\n",
    "                    arr1 = np.append(arr1,labels[j])\n",
    "                else:\n",
    "                    arr2 = np.append(arr2,labels[j])\n",
    "            entropy_drop = entropy_labels - ((arr1.size)/labels.size)*Entropy(arr1) - ((arr1.size)/labels.size)*Entropy(arr2)\n",
    "            if (I == 0):\n",
    "                max_info = entropy_drop\n",
    "            if (entropy_drop > max_info):\n",
    "                threshold = feature[I]\n",
    "                split_arr1 = arr1\n",
    "                split_arr2 = arr2\n",
    "\n",
    "                max_info = entropy_drop\n",
    "            \n",
    "            \n",
    "\n",
    "    \n",
    "\n",
    "\n",
    "    \n",
    "\n"
   ]
  },
  {
   "cell_type": "code",
   "execution_count": 19,
   "metadata": {},
   "outputs": [
    {
     "name": "stdout",
     "output_type": "stream",
     "text": [
      "[1.]\n"
     ]
    }
   ],
   "source": [
    "a = np.empty(0)\n",
    "a = np.append(a,1)\n",
    "print(a)"
   ]
  }
 ],
 "metadata": {
  "kernelspec": {
   "display_name": "Python 3",
   "language": "python",
   "name": "python3"
  },
  "language_info": {
   "codemirror_mode": {
    "name": "ipython",
    "version": 3
   },
   "file_extension": ".py",
   "mimetype": "text/x-python",
   "name": "python",
   "nbconvert_exporter": "python",
   "pygments_lexer": "ipython3",
   "version": "3.12.9"
  }
 },
 "nbformat": 4,
 "nbformat_minor": 2
}
