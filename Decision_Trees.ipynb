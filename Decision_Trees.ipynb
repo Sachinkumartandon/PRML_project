{
 "cells": [
  {
   "cell_type": "code",
   "execution_count": 61,
   "metadata": {},
   "outputs": [
    {
     "name": "stdout",
     "output_type": "stream",
     "text": [
      "[5 0 4 ... 5 6 8]\n",
      "Accuracy : 0.86975\n"
     ]
    }
   ],
   "source": [
    "import numpy as np\n",
    "import pandas as pd\n",
    "from sklearn import tree\n",
    "from sklearn.model_selection import train_test_split\n",
    "from sklearn.metrics import accuracy_score\n",
    "Decision_Tree = tree.DecisionTreeClassifier()\n",
    "X = np.load('X_train.npy')\n",
    "X = X.reshape(60000,784)\n",
    "y = np.load('y_train.npy')\n",
    "print(y)\n",
    "np.save(\"ab\",X)\n",
    "\n",
    "X_train,X_test,y_train,y_test = train_test_split(X,y,train_size=0.8,random_state=42)\n",
    "Decision_Tree.fit(X_train,y_train)\n",
    "\n",
    "y_pred = Decision_Tree.predict(X_test)\n",
    "print(\"Accuracy :\" ,accuracy_score(y_test,y_pred))\n",
    "\n"
   ]
  },
  {
   "cell_type": "code",
   "execution_count": 62,
   "metadata": {},
   "outputs": [],
   "source": [
    "# ENTROPY CALCULATION\n",
    "import numpy as np\n",
    "def Entropy(labels):\n",
    "    entropy = 0\n",
    "    size = labels.size\n",
    "    numbers = {1:0,2:0,3:0,4:0,5:0,6:0,7:0,8:0,9:0,0:0}\n",
    "    for x in labels:\n",
    "        numbers[x] += 1\n",
    "    for key in numbers.keys():\n",
    "        if (numbers[key]):\n",
    "            entropy +=(numbers[key]/float(size)) *np.log2(numbers[key]/float(size))\n",
    "    return entropy\n"
   ]
  },
  {
   "cell_type": "code",
   "execution_count": 63,
   "metadata": {},
   "outputs": [
    {
     "data": {
      "text/plain": [
       "-2.2516291673878226"
      ]
     },
     "execution_count": 63,
     "metadata": {},
     "output_type": "execute_result"
    }
   ],
   "source": [
    "Entropy(np.asarray([1,2,3,4,0,1]))"
   ]
  },
  {
   "cell_type": "code",
   "execution_count": 64,
   "metadata": {},
   "outputs": [],
   "source": [
    "def compute_entropy_threshold(data , index,labels):\n",
    "    entropy_labels = Entropy(labels)\n",
    "    computed_values = []\n",
    "    feature = data[:,index]\n",
    "    max_info = 0\n",
    "    for I in range(0,feature.size):\n",
    "        arr1 = np.empty(0)\n",
    "        arr2 = np.empty(0)\n",
    "        entropy_drop = 0\n",
    "        \n",
    "        if (feature[I] not in computed_values):\n",
    "            computed_values.append(feature[I])\n",
    "            for j in range(0,labels.size):\n",
    "                if (feature[j] < feature[I]):\n",
    "                    arr1 = np.append(arr1,labels[j])\n",
    "                else:\n",
    "                    arr2 = np.append(arr2,labels[j])\n",
    "            if (arr1.size > 0 and arr2.size>0):\n",
    "                entropy_drop = entropy_labels - ((arr1.size)/labels.size)*Entropy(arr1) - ((arr1.size)/labels.size)*Entropy(arr2)\n",
    "            if (entropy_drop > max_info):\n",
    "                threshold = feature[I]\n",
    "                split_arr1 = arr1\n",
    "                split_arr2 = arr2\n",
    "                max_info = entropy_drop\n",
    "    if (max_info > 0):\n",
    "        return max_info,threshold,split_arr1,split_arr2\n",
    "    else:\n",
    "        return 0,0,0,0   \n"
   ]
  },
  {
   "cell_type": "code",
   "execution_count": 65,
   "metadata": {},
   "outputs": [],
   "source": [
    "def split_data(index,threshold,data):   \n",
    "    return data[(data[:,index] >= threshold)],data[(data[:,index])< threshold]"
   ]
  },
  {
   "cell_type": "code",
   "execution_count": 66,
   "metadata": {},
   "outputs": [],
   "source": [
    "def best_split(data,labels):\n",
    "    max_info = 0\n",
    "    pos = 0\n",
    "    threshold = 0\n",
    "    for index in range(784):\n",
    "        info,cur_threshold,split1,split2 =compute_entropy_threshold(data,index,labels)\n",
    "        if (info > max_info):\n",
    "            pos = index\n",
    "            threshold = cur_threshold\n",
    "            label1 = split1\n",
    "            label2 = split2\n",
    "            max_info = info\n",
    "    return pos,threshold\n",
    "    "
   ]
  },
  {
   "cell_type": "code",
   "execution_count": 67,
   "metadata": {},
   "outputs": [],
   "source": [
    "class DecisionTreeNode:\n",
    "    \"\"\"Class for a decision tree node.\"\"\"\n",
    "    def __init__(self, feature=None, threshold=None, left=None, right=None, value=None):\n",
    "        self.feature = feature\n",
    "        self.threshold = threshold\n",
    "        self.left = left\n",
    "        self.right = right\n",
    "        self.value = value"
   ]
  },
  {
   "cell_type": "code",
   "execution_count": 68,
   "metadata": {},
   "outputs": [],
   "source": [
    "class DecisionTreeNode:\n",
    "    \"\"\"Class for a decision tree node.\"\"\"\n",
    "    def __init__(self, feature=None, threshold=None, left=None, right=None, value=None):\n",
    "        self.feature = feature\n",
    "        self.threshold = threshold\n",
    "        self.left = left\n",
    "        self.right = right\n",
    "        self.value = value\n",
    "\n",
    "class DecisionTree:\n",
    "    def __init__(self, max_depth=3):\n",
    "        self.max_depth = max_depth\n",
    "        self.root = None\n",
    "\n",
    "    def fit(self, data, labels, depth=0):\n",
    "        \"\"\"Recursively builds the decision tree.\"\"\"\n",
    "        # Base case: Stop splitting if pure or max depth reached\n",
    "        if depth == self.max_depth or len(np.unique(labels)) == 1: #Why?\n",
    "            return DecisionTreeNode(value=np.bincount(labels).argmax()) #Why?\n",
    "\n",
    "        # Find best feature and threshold\n",
    "        best_feature, best_threshold = best_split(data, labels)\n",
    "\n",
    "        # Partition data\n",
    "        left_mask = data[:, best_feature] <= best_threshold\n",
    "        right_mask = ~left_mask\n",
    "\n",
    "        if np.all(left_mask) or np.all(right_mask):  # Prevent infinite splitting\n",
    "            return DecisionTreeNode(value=np.bincount(labels).argmax())\n",
    "\n",
    "        left_child = self.fit(data[left_mask], labels[left_mask], depth + 1)\n",
    "        right_child = self.fit(data[right_mask], labels[right_mask], depth + 1)\n",
    "\n",
    "        return DecisionTreeNode(feature=best_feature, threshold=best_threshold, left=left_child, right=right_child)\n",
    "\n",
    "    def train(self, data, labels):\n",
    "        \"\"\"Initialize tree training.\"\"\"\n",
    "        self.root = self.fit(data, labels, depth=0)"
   ]
  },
  {
   "cell_type": "code",
   "execution_count": 69,
   "metadata": {},
   "outputs": [],
   "source": [
    "def predict_sample(node, sample):\n",
    "    \"\"\"Recursively predict the label for a single sample.\"\"\"\n",
    "    if node.value is not None:\n",
    "        return node.value\n",
    "    if sample[node.feature] <= node.threshold:\n",
    "        return predict_sample(node.left, sample)\n",
    "    else:\n",
    "        return predict_sample(node.right, sample)\n",
    "\n",
    "def predict(tree, data):\n",
    "    \"\"\"Predict labels for multiple samples.\"\"\"\n",
    "    return np.array([predict_sample(tree.root, sample) for sample in data])\n"
   ]
  },
  {
   "cell_type": "code",
   "execution_count": 76,
   "metadata": {},
   "outputs": [
    {
     "data": {
      "text/plain": [
       "0.12833333333333333"
      ]
     },
     "execution_count": 76,
     "metadata": {},
     "output_type": "execute_result"
    }
   ],
   "source": [
    "tree = DecisionTree()\n",
    "X = np.load('X_train.npy')\n",
    "y = np.load('y_train.npy')\n",
    "X = X.reshape(60000,784)\n",
    "X_train,X_test,y_train,y_test = train_test_split(X,y,train_size=0.01,test_size=0.01)\n",
    "tree.train(X_train,y_train)\n",
    "accuracy_score(predict(tree,X_test),y_test)"
   ]
  },
  {
   "cell_type": "code",
   "execution_count": null,
   "metadata": {},
   "outputs": [],
   "source": [
    "X = np.load('X_train.npy')\n",
    "y = np.load('y_train.npy')\n",
    "X = X.reshape(60000,784)\n",
    "X = X[:,0:100]\n",
    "import pandas as pd\n",
    "df_ = pd.DataFrame(X)\n",
    "df_.style.hide(axis=0)\n",
    "df_.style.hide(axis=1)\n",
    "df_.to_html(\"Table.html\")"
   ]
  }
 ],
 "metadata": {
  "kernelspec": {
   "display_name": "Python 3",
   "language": "python",
   "name": "python3"
  },
  "language_info": {
   "codemirror_mode": {
    "name": "ipython",
    "version": 3
   },
   "file_extension": ".py",
   "mimetype": "text/x-python",
   "name": "python",
   "nbconvert_exporter": "python",
   "pygments_lexer": "ipython3",
   "version": "3.12.10"
  }
 },
 "nbformat": 4,
 "nbformat_minor": 2
}
