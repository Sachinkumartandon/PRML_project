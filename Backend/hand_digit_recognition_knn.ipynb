{
 "cells": [
  {
   "cell_type": "code",
   "execution_count": 2,
   "metadata": {},
   "outputs": [
    {
     "name": "stdout",
     "output_type": "stream",
     "text": [
      "Defaulting to user installation because normal site-packages is not writeable\n",
      "Requirement already satisfied: scikit-learn in c:\\users\\aaditya\\appdata\\local\\packages\\pythonsoftwarefoundation.python.3.12_qbz5n2kfra8p0\\localcache\\local-packages\\python312\\site-packages (1.6.1)\n",
      "Requirement already satisfied: numpy>=1.19.5 in c:\\users\\aaditya\\appdata\\local\\packages\\pythonsoftwarefoundation.python.3.12_qbz5n2kfra8p0\\localcache\\local-packages\\python312\\site-packages (from scikit-learn) (1.26.4)\n",
      "Requirement already satisfied: scipy>=1.6.0 in c:\\users\\aaditya\\appdata\\local\\packages\\pythonsoftwarefoundation.python.3.12_qbz5n2kfra8p0\\localcache\\local-packages\\python312\\site-packages (from scikit-learn) (1.15.2)\n",
      "Requirement already satisfied: joblib>=1.2.0 in c:\\users\\aaditya\\appdata\\local\\packages\\pythonsoftwarefoundation.python.3.12_qbz5n2kfra8p0\\localcache\\local-packages\\python312\\site-packages (from scikit-learn) (1.4.2)\n",
      "Requirement already satisfied: threadpoolctl>=3.1.0 in c:\\users\\aaditya\\appdata\\local\\packages\\pythonsoftwarefoundation.python.3.12_qbz5n2kfra8p0\\localcache\\local-packages\\python312\\site-packages (from scikit-learn) (3.6.0)\n",
      "Note: you may need to restart the kernel to use updated packages.\n"
     ]
    },
    {
     "name": "stderr",
     "output_type": "stream",
     "text": [
      "\n",
      "[notice] A new release of pip is available: 24.3.1 -> 25.0.1\n",
      "[notice] To update, run: C:\\Users\\Aaditya\\AppData\\Local\\Microsoft\\WindowsApps\\PythonSoftwareFoundation.Python.3.12_qbz5n2kfra8p0\\python.exe -m pip install --upgrade pip\n"
     ]
    }
   ],
   "source": [
    "pip install scikit-learn\n"
   ]
  },
  {
   "cell_type": "code",
   "execution_count": 20,
   "metadata": {},
   "outputs": [],
   "source": [
    "import numpy as np\n",
    "from sklearn.neighbors import KNeighborsClassifier\n",
    "from sklearn.metrics import accuracy_score, classification_report\n",
    "from sklearn.model_selection import train_test_split\n",
    "import joblib"
   ]
  },
  {
   "cell_type": "code",
   "execution_count": 21,
   "metadata": {},
   "outputs": [
    {
     "name": "stdout",
     "output_type": "stream",
     "text": [
      "Original X shape: (60000, 28, 28)\n",
      "Flattened X shape: (60000, 784)\n",
      "Accuracy: 0.97\n",
      "Classification Report:\n",
      "              precision    recall  f1-score   support\n",
      "\n",
      "           0       0.98      0.99      0.99      1175\n",
      "           1       0.96      1.00      0.98      1322\n",
      "           2       0.98      0.97      0.97      1174\n",
      "           3       0.97      0.97      0.97      1219\n",
      "           4       0.97      0.97      0.97      1176\n",
      "           5       0.97      0.97      0.97      1104\n",
      "           6       0.99      0.99      0.99      1177\n",
      "           7       0.97      0.98      0.97      1299\n",
      "           8       0.99      0.94      0.96      1160\n",
      "           9       0.96      0.96      0.96      1194\n",
      "\n",
      "    accuracy                           0.97     12000\n",
      "   macro avg       0.97      0.97      0.97     12000\n",
      "weighted avg       0.97      0.97      0.97     12000\n",
      "\n",
      "Model saved successfully!\n"
     ]
    }
   ],
   "source": [
    "\n",
    "\n",
    "# Load the data\n",
    "X = np.load('X_train.npy')\n",
    "y = np.load('y_train.npy')\n",
    "\n",
    "# Print shape to debug\n",
    "print(f\"Original X shape: {X.shape}\")\n",
    "\n",
    "# Flatten the images (convert from 3D to 2D)\n",
    "num_samples = X.shape[0]\n",
    "X_flattened = X.reshape(num_samples, -1)\n",
    "\n",
    "# Print the new shape to confirm\n",
    "print(f\"Flattened X shape: {X_flattened.shape}\")\n",
    "\n",
    "# Split the data\n",
    "X_train, X_test, y_train, y_test = train_test_split(X_flattened, y, test_size=0.2, random_state=42)\n",
    "\n",
    "# Train the KNN classifier\n",
    "knn = KNeighborsClassifier(n_neighbors=3)\n",
    "knn.fit(X_train, y_train)\n",
    "\n",
    "# Make predictions\n",
    "y_pred = knn.predict(X_test)\n",
    "\n",
    "# Evaluate\n",
    "accuracy = accuracy_score(y_test, y_pred)\n",
    "print(f'Accuracy: {accuracy:.2f}')\n",
    "print(\"Classification Report:\")\n",
    "print(classification_report(y_test, y_pred))\n",
    "\n",
    "# Save the trained model\n",
    "joblib.dump(knn, 'knn_digit_classifier.joblib')\n",
    "print(\"Model saved successfully!\")\n"
   ]
  },
  {
   "cell_type": "code",
   "execution_count": 22,
   "metadata": {},
   "outputs": [
    {
     "name": "stdout",
     "output_type": "stream",
     "text": [
      "Original test images shape: (10000, 28, 28)\n",
      "Test labels shape: (10000,)\n",
      "Flattened test images shape: (10000, 784)\n",
      "Loaded trained model from 'knn_digit_classifier.joblib'\n",
      "\n",
      "Test Accuracy on external test dataset: 0.72\n",
      "Test Classification Report:\n",
      "              precision    recall  f1-score   support\n",
      "\n",
      "           0       0.41      0.99      0.58       980\n",
      "           1       0.99      0.82      0.90      1135\n",
      "           2       0.92      0.76      0.83      1032\n",
      "           3       0.94      0.53      0.68      1010\n",
      "           4       0.98      0.57      0.72       982\n",
      "           5       0.97      0.44      0.61       892\n",
      "           6       0.99      0.77      0.87       958\n",
      "           7       0.95      0.72      0.82      1028\n",
      "           8       0.44      0.90      0.59       974\n",
      "           9       0.87      0.66      0.75      1009\n",
      "\n",
      "    accuracy                           0.72     10000\n",
      "   macro avg       0.84      0.72      0.73     10000\n",
      "weighted avg       0.85      0.72      0.74     10000\n",
      "\n",
      "Sample 1: Predicted = 7, Actual = 7\n",
      "Sample 2: Predicted = 2, Actual = 2\n",
      "Sample 3: Predicted = 1, Actual = 1\n",
      "Sample 4: Predicted = 0, Actual = 0\n",
      "Sample 5: Predicted = 4, Actual = 4\n"
     ]
    }
   ],
   "source": [
    "\n",
    "# Load the external test dataset\n",
    "X_test = np.load('test-images.npy')\n",
    "y_test = np.load('test-labels.npy')\n",
    "\n",
    "# Print the shapes to check the data\n",
    "print(f\"Original test images shape: {X_test.shape}\")\n",
    "print(f\"Test labels shape: {y_test.shape}\")\n",
    "\n",
    "# Flatten the test images (same as in training)\n",
    "num_test_samples = X_test.shape[0]\n",
    "X_test_flattened = X_test.reshape(num_test_samples, -1)\n",
    "\n",
    "print(f\"Flattened test images shape: {X_test_flattened.shape}\")\n",
    "\n",
    "\n",
    "# Load the trained KNN model\n",
    "model_filename = 'knn_digit_classifier.joblib'\n",
    "knn_loaded = joblib.load(model_filename)\n",
    "print(f\"Loaded trained model from '{model_filename}'\")\n",
    "\n",
    "\n",
    "# Predict the labels for the test data\n",
    "y_pred = knn_loaded.predict(X_test_flattened)\n",
    "\n",
    "# Evaluate the performance\n",
    "test_accuracy = accuracy_score(y_test, y_pred)\n",
    "print(f'\\nTest Accuracy on external test dataset: {test_accuracy:.2f}')\n",
    "\n",
    "# Print a classification report\n",
    "print(\"Test Classification Report:\")\n",
    "print(classification_report(y_test, y_pred))\n",
    "\n",
    "# Optional: Show some predictions\n",
    "for i in range(5):\n",
    "    print(f\"Sample {i+1}: Predicted = {y_pred[i]}, Actual = {y_test[i]}\")\n"
   ]
  },
  {
   "cell_type": "code",
   "execution_count": null,
   "metadata": {},
   "outputs": [],
   "source": []
  }
 ],
 "metadata": {
  "kernelspec": {
   "display_name": "Python 3",
   "language": "python",
   "name": "python3"
  },
  "language_info": {
   "codemirror_mode": {
    "name": "ipython",
    "version": 3
   },
   "file_extension": ".py",
   "mimetype": "text/x-python",
   "name": "python",
   "nbconvert_exporter": "python",
   "pygments_lexer": "ipython3",
   "version": "3.12.9"
  }
 },
 "nbformat": 4,
 "nbformat_minor": 2
}
