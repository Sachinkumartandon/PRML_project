{
  "cells": [
    {
      "cell_type": "code",
      "execution_count": null,
      "metadata": {
        "colab": {
          "base_uri": "https://localhost:8080/"
        },
        "id": "bELjcKMxl1VY",
        "outputId": "24bf29c4-6ea9-4e9b-8ead-bd510e56f61f"
      },
      "outputs": [
        {
          "metadata": {
            "tags": null
          },
          "name": "stdout",
          "output_type": "stream",
          "text": [
            "Custom KNN model saved successfully!\n",
            "Custom KNN model loaded successfully!\n",
            "\n",
            "Test Accuracy (loaded custom KNN): 0.45\n"
          ]
        }
      ],
      "source": [
        "import numpy as np\n",
        "import pickle\n",
        "from collections import Counter\n",
        "\n",
        "# ---------- Step 1: Train the model ----------\n",
        "# Load training data\n",
        "X_train = np.load('X_train.npy')\n",
        "y_train = np.load('y_train.npy')\n",
        "X_train_flat = X_train.reshape(X_train.shape[0], -1)\n",
        "\n",
        "# Custom KNN Classifier\n",
        "class KNNClassifier:\n",
        "    def __init__(self, k=3):\n",
        "        self.k = k\n",
        "\n",
        "    def fit(self, X, y):\n",
        "        self.X_train = X\n",
        "        self.y_train = y\n",
        "\n",
        "    def predict(self, X_test):\n",
        "        predictions = []\n",
        "        for test_sample in X_test:\n",
        "            distances = np.linalg.norm(self.X_train - test_sample, axis=1)\n",
        "            k_indices = np.argsort(distances)[:self.k]\n",
        "            k_labels = self.y_train[k_indices]\n",
        "            most_common = Counter(k_labels).most_common(1)[0][0]\n",
        "            predictions.append(most_common)\n",
        "        return np.array(predictions)\n",
        "\n",
        "    def score(self, X_test, y_test):\n",
        "        y_pred = self.predict(X_test)\n",
        "        return np.mean(y_pred == y_test)\n",
        "\n",
        "# Train and save\n",
        "knn = KNNClassifier(k=3)\n",
        "knn.fit(X_train_flat, y_train)\n",
        "with open('custom_knn_model.pkl', 'wb') as f:\n",
        "    pickle.dump(knn, f)\n",
        "print(\"Custom KNN model saved successfully!\")\n",
        "\n",
        "# ---------- Step 2: Load the model and test ----------\n",
        "# Load test data\n",
        "X_test = np.load('test-images.npy')\n",
        "y_test = np.load('test-labels.npy')\n",
        "X_test_flat = X_test.reshape(X_test.shape[0], -1)\n",
        "\n",
        "# Load model from file\n",
        "with open('custom_knn_model.pkl', 'rb') as f:\n",
        "    knn_loaded = pickle.load(f)\n",
        "print(\"Custom KNN model loaded successfully!\")\n",
        "\n",
        "# Evaluate\n",
        "accuracy = knn_loaded.score(X_test_flat, y_test)\n",
        "print(f\"\\nTest Accuracy (loaded custom KNN): {accuracy:.2f}\")\n",
        "\n",
        "# Show sample predictions\n",
        "y_pred = knn_loaded.predict(X_test_flat)\n",
        "for i in range(5):\n",
        "    print(f\"Sample {i+1}: Predicted = {y_pred[i]}, Actual = {y_test[i]}\")\n"
      ]
    },
    {
      "cell_type": "code",
      "execution_count": null,
      "metadata": {
        "id": "NfesOObIuwmr"
      },
      "outputs": [],
      "source": []
    }
  ],
  "metadata": {
    "colab": {
      "provenance": []
    },
    "kernelspec": {
      "display_name": "Python 3",
      "name": "python3"
    },
    "language_info": {
      "name": "python"
    }
  },
  "nbformat": 4,
  "nbformat_minor": 0
}